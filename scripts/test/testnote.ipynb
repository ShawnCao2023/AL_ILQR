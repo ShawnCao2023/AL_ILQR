{
 "cells": [
  {
   "cell_type": "code",
   "execution_count": null,
   "id": "2f6bcb93",
   "metadata": {
    "tags": []
   },
   "outputs": [],
   "source": [
    "import numpy as np \n",
    "import math\n",
    "import pdb\n",
    "import sys\n",
    "sys.path.append('/Users/caoxiaoxu/Documents/Constrained_ILQR/scripts')\n",
    "from ilqr.constraints import Constraints\n",
    "from ilqr.Point import Point\n",
    "from ilqr.boundaries import Boundaries\n"
   ]
  },
  {
   "cell_type": "code",
   "execution_count": null,
   "id": "e3ccbae3",
   "metadata": {
    "tags": []
   },
   "outputs": [],
   "source": [
    "# polylines1 = [Point(0,3),Point(5,3),Point(10,1.5), Point(15,1.5)]\n",
    "# valid_pts1 = [Point(0,2),Point(5,2),Point(10,0.5), Point(15,0.5)]\n",
    "# polylines2 = [Point(0,-3),Point(5,-3),Point(10,-1.5), Point(15,-1.5)]\n",
    "# valid_pts2 = [Point(0,-2),Point(5,-2),Point(10,-0.5), Point(15,-0.5)]\n",
    "\n",
    "bound1 = -0.5\n",
    "bound2 = 5.0\n",
    "polyline1 = [Point(0, bound1), Point(50, bound1)]\n",
    "polyline2 = [Point(0, bound2), Point(50, bound2)]\n",
    "\n",
    "valid_points1 = []\n",
    "for item in polyline1:\n",
    "    point.x = item.x\n",
    "    point.y = item.y + 0.5\n",
    "    valid_points1.append(point)\n",
    "\n",
    "valid_points2 = []\n",
    "for item in polyline2:\n",
    "    point.x = item.x\n",
    "    point.y = item.y - 0.5\n",
    "    valid_points2.append(point)\n",
    "\n",
    "from arguments import add_arguments\n",
    "import argparse\n",
    "argparser = argparse.ArgumentParser(description='CARLA CILQR')\n",
    "add_arguments(argparser)\n",
    "# args = argparser.parse_args()\n",
    "args = argparser.parse_known_args()[0]"
   ]
  },
  {
   "cell_type": "code",
   "execution_count": null,
   "id": "de63e1c1",
   "metadata": {
    "tags": []
   },
   "outputs": [],
   "source": [
    "b1 = Boundaries(args, 1, polyline1,valid_points1)\n",
    "b2 = Boundaries(args, 2, polyline2,valid_points2)"
   ]
  },
  {
   "cell_type": "code",
   "execution_count": null,
   "id": "ce982001",
   "metadata": {
    "tags": []
   },
   "outputs": [],
   "source": [
    "p1 = Point(1,2)\n",
    "p2 = Point(6,3)\n",
    "p3 = Point(10,1)\n",
    "p4=  Point(11,-2)\n",
    "p5 = Point(16,1)\n",
    "p6 = Point(18,1.5)\n",
    "p7 = Point(18, -5)\n",
    "pts = [p1, p2, p3, p4, p5, p6, p7]"
   ]
  },
  {
   "cell_type": "code",
   "execution_count": null,
   "id": "767cc31c",
   "metadata": {
    "tags": []
   },
   "outputs": [],
   "source": [
    "m = b1.violate_constrains_points(pts)\n",
    "n = b1.get_near_constrains(pts)\n",
    "print('Bound1 volate constrains', m)\n",
    "print('Bound2 constrain index', n)"
   ]
  },
  {
   "cell_type": "code",
   "execution_count": null,
   "id": "45088fab",
   "metadata": {
    "tags": []
   },
   "outputs": [],
   "source": [
    "m = b2.violate_constrains_points(pts)\n",
    "n = b2.get_near_constrains(pts)\n",
    "print('Bound2 volate constrains', m)\n",
    "print('Bound2 constrain index', n)"
   ]
  },
  {
   "cell_type": "code",
   "execution_count": null,
   "id": "813d41e0",
   "metadata": {
    "tags": []
   },
   "outputs": [],
   "source": [
    "import matplotlib.pyplot as plt\n",
    "\n",
    "bound1_x = [point.x for point in polyline1]\n",
    "bound1_y = [point.y for point in polyline1]\n",
    "\n",
    "bound2_x = [point.x for point in polyline2]\n",
    "bound2_y = [point.y for point in polyline2]\n",
    "\n",
    "# 提取 x 和 y 坐标\n",
    "x_coords = [point.x for point in pts]\n",
    "y_coords = [point.y for point in pts]\n",
    "\n",
    "# 创建散点图\n",
    "plt.scatter(x_coords, y_coords, color='blue', marker='o', label='Data Points')\n",
    "plt.plot(bound1_x,bound1_y)\n",
    "plt.plot(bound2_x,bound2_y)\n",
    "# 添加标题和标签\n",
    "plt.title('Scatter Plot Using Point Class')\n",
    "plt.xlabel('X-axis')\n",
    "plt.ylabel('Y-axis')\n",
    "\n",
    "# 显示图例\n",
    "plt.legend()\n",
    "\n",
    "# 显示图形\n",
    "plt.show()"
   ]
  },
  {
   "cell_type": "code",
   "execution_count": null,
   "id": "a7e1ccbe",
   "metadata": {
    "tags": []
   },
   "outputs": [],
   "source": []
  },
  {
   "cell_type": "code",
   "execution_count": null,
   "id": "2c3600ba",
   "metadata": {
    "tags": []
   },
   "outputs": [],
   "source": []
  },
  {
   "cell_type": "code",
   "execution_count": null,
   "id": "258295d6",
   "metadata": {
    "tags": []
   },
   "outputs": [],
   "source": []
  },
  {
   "cell_type": "code",
   "execution_count": null,
   "id": "ba143b21",
   "metadata": {
    "tags": []
   },
   "outputs": [],
   "source": []
  },
  {
   "cell_type": "code",
   "execution_count": null,
   "id": "e70c2e32",
   "metadata": {},
   "outputs": [],
   "source": []
  },
  {
   "cell_type": "code",
   "execution_count": null,
   "id": "c3a558c0",
   "metadata": {},
   "outputs": [],
   "source": [
    "import matplotlib.pyplot as plt\n",
    "import time\n",
    "\n",
    "# 定义绘制和清除图形的函数\n",
    "def plot_and_clear(x, y, title):\n",
    "    plt.scatter(x, y, color='blue', marker='o', label=title)\n",
    "    plt.title(title)\n",
    "    plt.xlabel('X-axis')\n",
    "    plt.ylabel('Y-axis')\n",
    "    plt.legend()\n",
    "    \n",
    "    # 显示图形\n",
    "    plt.show(block=False)\n",
    "    plt.pause(0.5)  # 暂停 0.5 秒\n",
    "    \n",
    "    # 清除当前图形\n",
    "    plt.clf()\n",
    "\n",
    "# 示例数据列表\n",
    "data = [\n",
    "    ([1, 2, 3, 4, 5], [10, 15, 13, 18, 16], 'First Plot'),\n",
    "    ([5, 4, 3, 2, 1], [16, 18, 13, 15, 10], 'Second Plot'),\n",
    "    ([2, 3, 4, 5, 6], [12, 17, 14, 19, 17], 'Third Plot')\n",
    "]\n",
    "\n",
    "# 循环绘制和清除图形\n",
    "for x, y, title in data:\n",
    "    plot_and_clear(x, y, title)\n",
    "\n",
    "# 关闭所有图形窗口\n",
    "plt.close('all')\n"
   ]
  },
  {
   "cell_type": "code",
   "execution_count": null,
   "id": "cfc0340e-faf7-494a-848f-d3f61dcb4449",
   "metadata": {},
   "outputs": [],
   "source": []
  }
 ],
 "metadata": {
  "kernelspec": {
   "display_name": "Python 3 (ipykernel)",
   "language": "python",
   "name": "python3"
  },
  "language_info": {
   "codemirror_mode": {
    "name": "ipython",
    "version": 3
   },
   "file_extension": ".py",
   "mimetype": "text/x-python",
   "name": "python",
   "nbconvert_exporter": "python",
   "pygments_lexer": "ipython3",
   "version": "3.11.8"
  }
 },
 "nbformat": 4,
 "nbformat_minor": 5
}
